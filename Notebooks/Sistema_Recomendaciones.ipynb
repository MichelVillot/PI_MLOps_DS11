{
 "cells": [
  {
   "attachments": {},
   "cell_type": "markdown",
   "metadata": {},
   "source": [
    "# Sistema de Recomendación"
   ]
  },
  {
   "cell_type": "code",
   "execution_count": 47,
   "metadata": {},
   "outputs": [],
   "source": [
    "#Importamos las librerias necesarias.\n",
    "import pandas as pd\n",
    "import numpy as np\n",
    "import difflib\n",
    "from sklearn.feature_extraction.text import CountVectorizer\n",
    "from sklearn.metrics.pairwise import cosine_similarity\n",
    "import pickle"
   ]
  },
  {
   "cell_type": "code",
   "execution_count": 48,
   "metadata": {},
   "outputs": [],
   "source": [
    "#Importamos el dataframe.\n",
    "archivo = pd.read_csv(r\"C:\\Users\\miche\\OneDrive\\Escritorio\\Proyecto_MLOps\\DataSets\\dataframe_final.csv\", parse_dates=[\"release_date\"], thousands=\".\")\n",
    "df = pd.DataFrame(archivo)"
   ]
  },
  {
   "cell_type": "code",
   "execution_count": 49,
   "metadata": {},
   "outputs": [
    {
     "data": {
      "text/html": [
       "<div>\n",
       "<style scoped>\n",
       "    .dataframe tbody tr th:only-of-type {\n",
       "        vertical-align: middle;\n",
       "    }\n",
       "\n",
       "    .dataframe tbody tr th {\n",
       "        vertical-align: top;\n",
       "    }\n",
       "\n",
       "    .dataframe thead th {\n",
       "        text-align: right;\n",
       "    }\n",
       "</style>\n",
       "<table border=\"1\" class=\"dataframe\">\n",
       "  <thead>\n",
       "    <tr style=\"text-align: right;\">\n",
       "      <th></th>\n",
       "      <th>id_collection</th>\n",
       "      <th>name_collection</th>\n",
       "      <th>budget</th>\n",
       "      <th>id_genres</th>\n",
       "      <th>name_genres</th>\n",
       "      <th>id</th>\n",
       "      <th>original_language</th>\n",
       "      <th>overview</th>\n",
       "      <th>popularity</th>\n",
       "      <th>id_production_companies</th>\n",
       "      <th>...</th>\n",
       "      <th>revenue</th>\n",
       "      <th>runtime</th>\n",
       "      <th>name_spoken_languages</th>\n",
       "      <th>status</th>\n",
       "      <th>tagline</th>\n",
       "      <th>title</th>\n",
       "      <th>vote_average</th>\n",
       "      <th>vote_count</th>\n",
       "      <th>cast</th>\n",
       "      <th>director</th>\n",
       "    </tr>\n",
       "  </thead>\n",
       "  <tbody>\n",
       "    <tr>\n",
       "      <th>0</th>\n",
       "      <td>10194.0</td>\n",
       "      <td>Toy Story Collection</td>\n",
       "      <td>300000000</td>\n",
       "      <td>[16, 35, 10751]</td>\n",
       "      <td>['Animation', 'Comedy', 'Family']</td>\n",
       "      <td>862</td>\n",
       "      <td>en</td>\n",
       "      <td>Led by Woody, Andy's toys live happily in his ...</td>\n",
       "      <td>21946943.0</td>\n",
       "      <td>[3]</td>\n",
       "      <td>...</td>\n",
       "      <td>3735540330</td>\n",
       "      <td>810.0</td>\n",
       "      <td>['English']</td>\n",
       "      <td>Released</td>\n",
       "      <td>NaN</td>\n",
       "      <td>Toy Story</td>\n",
       "      <td>77</td>\n",
       "      <td>54150</td>\n",
       "      <td>['Tom Hanks', 'Tim Allen', 'Don Rickles', 'Jim...</td>\n",
       "      <td>['John Lasseter']</td>\n",
       "    </tr>\n",
       "    <tr>\n",
       "      <th>1</th>\n",
       "      <td>NaN</td>\n",
       "      <td>NaN</td>\n",
       "      <td>650000000</td>\n",
       "      <td>[12, 14, 10751]</td>\n",
       "      <td>['Adventure', 'Fantasy', 'Family']</td>\n",
       "      <td>8844</td>\n",
       "      <td>en</td>\n",
       "      <td>When siblings Judy and Peter discover an encha...</td>\n",
       "      <td>17015539.0</td>\n",
       "      <td>[559, 2550, 10201]</td>\n",
       "      <td>...</td>\n",
       "      <td>2627972490</td>\n",
       "      <td>1040.0</td>\n",
       "      <td>['English', 'Français']</td>\n",
       "      <td>Released</td>\n",
       "      <td>Roll the dice and unleash the excitement!</td>\n",
       "      <td>Jumanji</td>\n",
       "      <td>69</td>\n",
       "      <td>24130</td>\n",
       "      <td>['Robin Williams', 'Jonathan Hyde', 'Kirsten D...</td>\n",
       "      <td>['Joe Johnston']</td>\n",
       "    </tr>\n",
       "  </tbody>\n",
       "</table>\n",
       "<p>2 rows × 27 columns</p>\n",
       "</div>"
      ],
      "text/plain": [
       "   id_collection       name_collection     budget        id_genres  \\\n",
       "0        10194.0  Toy Story Collection  300000000  [16, 35, 10751]   \n",
       "1            NaN                   NaN  650000000  [12, 14, 10751]   \n",
       "\n",
       "                          name_genres    id original_language  \\\n",
       "0   ['Animation', 'Comedy', 'Family']   862                en   \n",
       "1  ['Adventure', 'Fantasy', 'Family']  8844                en   \n",
       "\n",
       "                                            overview  popularity  \\\n",
       "0  Led by Woody, Andy's toys live happily in his ...  21946943.0   \n",
       "1  When siblings Judy and Peter discover an encha...  17015539.0   \n",
       "\n",
       "  id_production_companies  ...     revenue runtime    name_spoken_languages  \\\n",
       "0                     [3]  ...  3735540330   810.0              ['English']   \n",
       "1      [559, 2550, 10201]  ...  2627972490  1040.0  ['English', 'Français']   \n",
       "\n",
       "     status                                    tagline      title  \\\n",
       "0  Released                                        NaN  Toy Story   \n",
       "1  Released  Roll the dice and unleash the excitement!    Jumanji   \n",
       "\n",
       "  vote_average  vote_count                                               cast  \\\n",
       "0           77       54150  ['Tom Hanks', 'Tim Allen', 'Don Rickles', 'Jim...   \n",
       "1           69       24130  ['Robin Williams', 'Jonathan Hyde', 'Kirsten D...   \n",
       "\n",
       "            director  \n",
       "0  ['John Lasseter']  \n",
       "1   ['Joe Johnston']  \n",
       "\n",
       "[2 rows x 27 columns]"
      ]
     },
     "execution_count": 49,
     "metadata": {},
     "output_type": "execute_result"
    }
   ],
   "source": [
    "#Verificamos que la importacion del dataset haya sido correcta.\n",
    "df.head(2)"
   ]
  },
  {
   "cell_type": "code",
   "execution_count": 50,
   "metadata": {},
   "outputs": [
    {
     "data": {
      "text/plain": [
       "Index(['id_collection', 'name_collection', 'budget', 'id_genres',\n",
       "       'name_genres', 'id', 'original_language', 'overview', 'popularity',\n",
       "       'id_production_companies', 'name_production_companies',\n",
       "       'name_production_countries', 'release_date', 'release_year',\n",
       "       'release_month', 'return', 'release_day', 'revenue', 'runtime',\n",
       "       'name_spoken_languages', 'status', 'tagline', 'title', 'vote_average',\n",
       "       'vote_count', 'cast', 'director'],\n",
       "      dtype='object')"
      ]
     },
     "execution_count": 50,
     "metadata": {},
     "output_type": "execute_result"
    }
   ],
   "source": [
    "#Vemos las columnas que necesitamos\n",
    "df.columns"
   ]
  },
  {
   "cell_type": "code",
   "execution_count": 51,
   "metadata": {},
   "outputs": [],
   "source": [
    "#Creamos un nuevo df con solo las columnas que vamos a necesitas\n",
    "df = df[[\"id_collection\", \"title\", \"name_genres\", \"overview\"]]"
   ]
  },
  {
   "cell_type": "code",
   "execution_count": 52,
   "metadata": {},
   "outputs": [],
   "source": [
    "#Realizmos un muestreo\n",
    "df = df[0:5000]"
   ]
  },
  {
   "cell_type": "code",
   "execution_count": 53,
   "metadata": {},
   "outputs": [
    {
     "name": "stderr",
     "output_type": "stream",
     "text": [
      "C:\\Users\\miche\\AppData\\Local\\Temp\\ipykernel_19380\\1874083026.py:2: FutureWarning: The default value of regex will change from True to False in a future version. In addition, single character regular expressions will *not* be treated as literal strings when regex=True.\n",
      "  df[\"name_genres\"] =df[\"name_genres\"].str.replace(\"[\", \"\")\n",
      "C:\\Users\\miche\\AppData\\Local\\Temp\\ipykernel_19380\\1874083026.py:3: FutureWarning: The default value of regex will change from True to False in a future version. In addition, single character regular expressions will *not* be treated as literal strings when regex=True.\n",
      "  df[\"name_genres\"] =df[\"name_genres\"].str.replace(\"]\", \"\")\n"
     ]
    },
    {
     "data": {
      "text/html": [
       "<div>\n",
       "<style scoped>\n",
       "    .dataframe tbody tr th:only-of-type {\n",
       "        vertical-align: middle;\n",
       "    }\n",
       "\n",
       "    .dataframe tbody tr th {\n",
       "        vertical-align: top;\n",
       "    }\n",
       "\n",
       "    .dataframe thead th {\n",
       "        text-align: right;\n",
       "    }\n",
       "</style>\n",
       "<table border=\"1\" class=\"dataframe\">\n",
       "  <thead>\n",
       "    <tr style=\"text-align: right;\">\n",
       "      <th></th>\n",
       "      <th>id_collection</th>\n",
       "      <th>title</th>\n",
       "      <th>name_genres</th>\n",
       "      <th>overview</th>\n",
       "    </tr>\n",
       "  </thead>\n",
       "  <tbody>\n",
       "    <tr>\n",
       "      <th>0</th>\n",
       "      <td>10194.0</td>\n",
       "      <td>Toy Story</td>\n",
       "      <td>Animation, Comedy, Family</td>\n",
       "      <td>Led by Woody, Andy's toys live happily in his ...</td>\n",
       "    </tr>\n",
       "    <tr>\n",
       "      <th>1</th>\n",
       "      <td>NaN</td>\n",
       "      <td>Jumanji</td>\n",
       "      <td>Adventure, Fantasy, Family</td>\n",
       "      <td>When siblings Judy and Peter discover an encha...</td>\n",
       "    </tr>\n",
       "    <tr>\n",
       "      <th>2</th>\n",
       "      <td>119050.0</td>\n",
       "      <td>Grumpier Old Men</td>\n",
       "      <td>Romance, Comedy</td>\n",
       "      <td>A family wedding reignites the ancient feud be...</td>\n",
       "    </tr>\n",
       "    <tr>\n",
       "      <th>3</th>\n",
       "      <td>NaN</td>\n",
       "      <td>Waiting to Exhale</td>\n",
       "      <td>Comedy, Drama, Romance</td>\n",
       "      <td>Cheated on, mistreated and stepped on, the wom...</td>\n",
       "    </tr>\n",
       "    <tr>\n",
       "      <th>4</th>\n",
       "      <td>96871.0</td>\n",
       "      <td>Father of the Bride Part II</td>\n",
       "      <td>Comedy</td>\n",
       "      <td>Just when George Banks has recovered from his ...</td>\n",
       "    </tr>\n",
       "    <tr>\n",
       "      <th>...</th>\n",
       "      <td>...</td>\n",
       "      <td>...</td>\n",
       "      <td>...</td>\n",
       "      <td>...</td>\n",
       "    </tr>\n",
       "    <tr>\n",
       "      <th>4995</th>\n",
       "      <td>NaN</td>\n",
       "      <td>How to Kill Your Neighbor's Dog</td>\n",
       "      <td>Comedy, Drama</td>\n",
       "      <td>The story of Peter McGowan, a chain-smoking, i...</td>\n",
       "    </tr>\n",
       "    <tr>\n",
       "      <th>4996</th>\n",
       "      <td>NaN</td>\n",
       "      <td>The Last Man</td>\n",
       "      <td>Comedy</td>\n",
       "      <td>Apocalyptic comedy finds a socially-challenged...</td>\n",
       "    </tr>\n",
       "    <tr>\n",
       "      <th>4997</th>\n",
       "      <td>NaN</td>\n",
       "      <td>Maryam</td>\n",
       "      <td>Drama</td>\n",
       "      <td>An Iranian-born teenager living in suburban Ne...</td>\n",
       "    </tr>\n",
       "    <tr>\n",
       "      <th>4998</th>\n",
       "      <td>NaN</td>\n",
       "      <td>Mean Machine</td>\n",
       "      <td>Comedy, Drama</td>\n",
       "      <td>Disgraced ex-England captain (Danny 'Mean Mach...</td>\n",
       "    </tr>\n",
       "    <tr>\n",
       "      <th>4999</th>\n",
       "      <td>NaN</td>\n",
       "      <td>Monsoon Wedding</td>\n",
       "      <td>Comedy, Drama, Romance</td>\n",
       "      <td>From an exciting Indian wedding comes a relati...</td>\n",
       "    </tr>\n",
       "  </tbody>\n",
       "</table>\n",
       "<p>5000 rows × 4 columns</p>\n",
       "</div>"
      ],
      "text/plain": [
       "      id_collection                            title  \\\n",
       "0           10194.0                        Toy Story   \n",
       "1               NaN                          Jumanji   \n",
       "2          119050.0                 Grumpier Old Men   \n",
       "3               NaN                Waiting to Exhale   \n",
       "4           96871.0      Father of the Bride Part II   \n",
       "...             ...                              ...   \n",
       "4995            NaN  How to Kill Your Neighbor's Dog   \n",
       "4996            NaN                     The Last Man   \n",
       "4997            NaN                           Maryam   \n",
       "4998            NaN                     Mean Machine   \n",
       "4999            NaN                  Monsoon Wedding   \n",
       "\n",
       "                     name_genres  \\\n",
       "0      Animation, Comedy, Family   \n",
       "1     Adventure, Fantasy, Family   \n",
       "2                Romance, Comedy   \n",
       "3         Comedy, Drama, Romance   \n",
       "4                         Comedy   \n",
       "...                          ...   \n",
       "4995               Comedy, Drama   \n",
       "4996                      Comedy   \n",
       "4997                       Drama   \n",
       "4998               Comedy, Drama   \n",
       "4999      Comedy, Drama, Romance   \n",
       "\n",
       "                                               overview  \n",
       "0     Led by Woody, Andy's toys live happily in his ...  \n",
       "1     When siblings Judy and Peter discover an encha...  \n",
       "2     A family wedding reignites the ancient feud be...  \n",
       "3     Cheated on, mistreated and stepped on, the wom...  \n",
       "4     Just when George Banks has recovered from his ...  \n",
       "...                                                 ...  \n",
       "4995  The story of Peter McGowan, a chain-smoking, i...  \n",
       "4996  Apocalyptic comedy finds a socially-challenged...  \n",
       "4997  An Iranian-born teenager living in suburban Ne...  \n",
       "4998  Disgraced ex-England captain (Danny 'Mean Mach...  \n",
       "4999  From an exciting Indian wedding comes a relati...  \n",
       "\n",
       "[5000 rows x 4 columns]"
      ]
     },
     "execution_count": 53,
     "metadata": {},
     "output_type": "execute_result"
    }
   ],
   "source": [
    "#Hacemos el replace de los caracteres que no necesitamos dentro de la columna name_genres\n",
    "df[\"name_genres\"] =df[\"name_genres\"].str.replace(\"[\", \"\")\n",
    "df[\"name_genres\"] =df[\"name_genres\"].str.replace(\"]\", \"\")\n",
    "df[\"name_genres\"] =df[\"name_genres\"].str.replace(\"'\", \"\")\n",
    "\n",
    "#Verificamos el df\n",
    "df"
   ]
  },
  {
   "cell_type": "code",
   "execution_count": 54,
   "metadata": {},
   "outputs": [],
   "source": [
    "#Creamos una nueva columna llamada Tag, la cual se compone de overview + namge_genres\n",
    "df[\"tags\"] = df.overview+df.name_genres"
   ]
  },
  {
   "cell_type": "code",
   "execution_count": 55,
   "metadata": {},
   "outputs": [],
   "source": [
    "#Procedemos a eliminar las columnas que no vamos a utilizar.\n",
    "df = df.drop(columns=[\"overview\", \"name_genres\"])\n"
   ]
  },
  {
   "cell_type": "code",
   "execution_count": 56,
   "metadata": {},
   "outputs": [
    {
     "data": {
      "text/plain": [
       "(5000, 3)"
      ]
     },
     "execution_count": 56,
     "metadata": {},
     "output_type": "execute_result"
    }
   ],
   "source": [
    "#Tomamos una muestra para bajar el dataframe y pueda ser utilizado, obtenemos una muestra de 25%\n",
    "df.shape\n"
   ]
  },
  {
   "cell_type": "code",
   "execution_count": 57,
   "metadata": {},
   "outputs": [],
   "source": [
    "#instanciamos nuestro modelo\n",
    "cv = CountVectorizer(max_features=5000, stop_words=\"english\")"
   ]
  },
  {
   "cell_type": "code",
   "execution_count": 58,
   "metadata": {},
   "outputs": [],
   "source": [
    "#Generamos el nuevo_df\n",
    "nuevo_df = cv.fit_transform(df[\"tags\"].values.astype(\"U\")).toarray()"
   ]
  },
  {
   "cell_type": "code",
   "execution_count": 59,
   "metadata": {},
   "outputs": [
    {
     "data": {
      "text/plain": [
       "(5000, 5000)"
      ]
     },
     "execution_count": 59,
     "metadata": {},
     "output_type": "execute_result"
    }
   ],
   "source": [
    "#Vemos la forma del df\n",
    "nuevo_df.shape"
   ]
  },
  {
   "cell_type": "code",
   "execution_count": 60,
   "metadata": {},
   "outputs": [],
   "source": [
    "#Creamos la similaridad en base al nuevo df\n",
    "similaridad = cosine_similarity(nuevo_df) #50% del data set 4m 6.6s "
   ]
  },
  {
   "cell_type": "code",
   "execution_count": 61,
   "metadata": {},
   "outputs": [
    {
     "data": {
      "text/plain": [
       "array([[1.        , 0.04270814, 0.0520051 , ..., 0.        , 0.04484485,\n",
       "        0.02437575],\n",
       "       [0.04270814, 1.        , 0.08495482, ..., 0.03698634, 0.02441931,\n",
       "        0.        ],\n",
       "       [0.0520051 , 0.08495482, 1.        , ..., 0.        , 0.02973505,\n",
       "        0.09697623],\n",
       "       ...,\n",
       "       [0.        , 0.03698634, 0.        , ..., 1.        , 0.03883678,\n",
       "        0.1266601 ],\n",
       "       [0.04484485, 0.02441931, 0.02973505, ..., 0.03883678, 1.        ,\n",
       "        0.05574947],\n",
       "       [0.02437575, 0.        , 0.09697623, ..., 0.1266601 , 0.05574947,\n",
       "        1.        ]])"
      ]
     },
     "execution_count": 61,
     "metadata": {},
     "output_type": "execute_result"
    }
   ],
   "source": [
    "#Comprobamos la proximidad de cada elemento\n",
    "similaridad"
   ]
  },
  {
   "cell_type": "code",
   "execution_count": 62,
   "metadata": {},
   "outputs": [],
   "source": [
    "#Creamos la funcion\n",
    "def recomendacion(titulo: str):\n",
    "    titulo=titulo.title() #Cuando se ingrese el titulo lo convertira en las primeras letras de cada palabra en mayuscula\n",
    "    indice = df[df[\"title\"] == titulo].index[0] #El indice de la pelicula\n",
    "    distancia = sorted(list(enumerate(similaridad[indice])), reverse=True, key=lambda vector:vector[1]) #Creamos una nueva variable para encontrar la similaridad en base al indice de la pelicula, ponerla en orden descendente\n",
    "    lista_peliculas = [] #Creamos una lista vacia\n",
    "    for i in distancia[0:5]: #Iteramos en la variable distancia del indice 0 al 5, la cual contiene los valores aproximados al titulo.\n",
    "        lista_peliculas.append(df.iloc[i[0]].title) #agregamos a la lista los 5 valores\n",
    "    \n",
    "    return lista_peliculas #retornamos los 5 valores en formato de lista."
   ]
  },
  {
   "cell_type": "code",
   "execution_count": 63,
   "metadata": {},
   "outputs": [
    {
     "data": {
      "text/plain": [
       "['Toy Story', 'Toy Story 2', 'Man on the Moon', 'Condorman', 'Window to Paris']"
      ]
     },
     "execution_count": 63,
     "metadata": {},
     "output_type": "execute_result"
    }
   ],
   "source": [
    "#Probamos la funcion\n",
    "recomendacion(\"Toy Story\")"
   ]
  },
  {
   "cell_type": "code",
   "execution_count": 64,
   "metadata": {},
   "outputs": [],
   "source": [
    "#Exportamos los archivos en formato pkl los cuales contienen el modelo de Machine Learning\n",
    "pickle.dump(df, open(\"lista_peliculas.pkl\", \"wb\"))\n",
    "pickle.dump(similaridad, open(\"similaridad.pkl\", \"wb\"))"
   ]
  },
  {
   "cell_type": "code",
   "execution_count": 65,
   "metadata": {},
   "outputs": [
    {
     "data": {
      "text/html": [
       "<div>\n",
       "<style scoped>\n",
       "    .dataframe tbody tr th:only-of-type {\n",
       "        vertical-align: middle;\n",
       "    }\n",
       "\n",
       "    .dataframe tbody tr th {\n",
       "        vertical-align: top;\n",
       "    }\n",
       "\n",
       "    .dataframe thead th {\n",
       "        text-align: right;\n",
       "    }\n",
       "</style>\n",
       "<table border=\"1\" class=\"dataframe\">\n",
       "  <thead>\n",
       "    <tr style=\"text-align: right;\">\n",
       "      <th></th>\n",
       "      <th>id_collection</th>\n",
       "      <th>title</th>\n",
       "      <th>tags</th>\n",
       "    </tr>\n",
       "  </thead>\n",
       "  <tbody>\n",
       "    <tr>\n",
       "      <th>0</th>\n",
       "      <td>10194.0</td>\n",
       "      <td>Toy Story</td>\n",
       "      <td>Led by Woody, Andy's toys live happily in his ...</td>\n",
       "    </tr>\n",
       "    <tr>\n",
       "      <th>1</th>\n",
       "      <td>NaN</td>\n",
       "      <td>Jumanji</td>\n",
       "      <td>When siblings Judy and Peter discover an encha...</td>\n",
       "    </tr>\n",
       "    <tr>\n",
       "      <th>2</th>\n",
       "      <td>119050.0</td>\n",
       "      <td>Grumpier Old Men</td>\n",
       "      <td>A family wedding reignites the ancient feud be...</td>\n",
       "    </tr>\n",
       "    <tr>\n",
       "      <th>3</th>\n",
       "      <td>NaN</td>\n",
       "      <td>Waiting to Exhale</td>\n",
       "      <td>Cheated on, mistreated and stepped on, the wom...</td>\n",
       "    </tr>\n",
       "    <tr>\n",
       "      <th>4</th>\n",
       "      <td>96871.0</td>\n",
       "      <td>Father of the Bride Part II</td>\n",
       "      <td>Just when George Banks has recovered from his ...</td>\n",
       "    </tr>\n",
       "    <tr>\n",
       "      <th>...</th>\n",
       "      <td>...</td>\n",
       "      <td>...</td>\n",
       "      <td>...</td>\n",
       "    </tr>\n",
       "    <tr>\n",
       "      <th>4995</th>\n",
       "      <td>NaN</td>\n",
       "      <td>How to Kill Your Neighbor's Dog</td>\n",
       "      <td>The story of Peter McGowan, a chain-smoking, i...</td>\n",
       "    </tr>\n",
       "    <tr>\n",
       "      <th>4996</th>\n",
       "      <td>NaN</td>\n",
       "      <td>The Last Man</td>\n",
       "      <td>Apocalyptic comedy finds a socially-challenged...</td>\n",
       "    </tr>\n",
       "    <tr>\n",
       "      <th>4997</th>\n",
       "      <td>NaN</td>\n",
       "      <td>Maryam</td>\n",
       "      <td>An Iranian-born teenager living in suburban Ne...</td>\n",
       "    </tr>\n",
       "    <tr>\n",
       "      <th>4998</th>\n",
       "      <td>NaN</td>\n",
       "      <td>Mean Machine</td>\n",
       "      <td>Disgraced ex-England captain (Danny 'Mean Mach...</td>\n",
       "    </tr>\n",
       "    <tr>\n",
       "      <th>4999</th>\n",
       "      <td>NaN</td>\n",
       "      <td>Monsoon Wedding</td>\n",
       "      <td>From an exciting Indian wedding comes a relati...</td>\n",
       "    </tr>\n",
       "  </tbody>\n",
       "</table>\n",
       "<p>5000 rows × 3 columns</p>\n",
       "</div>"
      ],
      "text/plain": [
       "      id_collection                            title  \\\n",
       "0           10194.0                        Toy Story   \n",
       "1               NaN                          Jumanji   \n",
       "2          119050.0                 Grumpier Old Men   \n",
       "3               NaN                Waiting to Exhale   \n",
       "4           96871.0      Father of the Bride Part II   \n",
       "...             ...                              ...   \n",
       "4995            NaN  How to Kill Your Neighbor's Dog   \n",
       "4996            NaN                     The Last Man   \n",
       "4997            NaN                           Maryam   \n",
       "4998            NaN                     Mean Machine   \n",
       "4999            NaN                  Monsoon Wedding   \n",
       "\n",
       "                                                   tags  \n",
       "0     Led by Woody, Andy's toys live happily in his ...  \n",
       "1     When siblings Judy and Peter discover an encha...  \n",
       "2     A family wedding reignites the ancient feud be...  \n",
       "3     Cheated on, mistreated and stepped on, the wom...  \n",
       "4     Just when George Banks has recovered from his ...  \n",
       "...                                                 ...  \n",
       "4995  The story of Peter McGowan, a chain-smoking, i...  \n",
       "4996  Apocalyptic comedy finds a socially-challenged...  \n",
       "4997  An Iranian-born teenager living in suburban Ne...  \n",
       "4998  Disgraced ex-England captain (Danny 'Mean Mach...  \n",
       "4999  From an exciting Indian wedding comes a relati...  \n",
       "\n",
       "[5000 rows x 3 columns]"
      ]
     },
     "execution_count": 65,
     "metadata": {},
     "output_type": "execute_result"
    }
   ],
   "source": [
    "#Probamos que funcione el archivo lista_peliculas.pkl\n",
    "pickle.load(open(\"lista_peliculas.pkl\",\"rb\"))"
   ]
  },
  {
   "cell_type": "code",
   "execution_count": 66,
   "metadata": {},
   "outputs": [
    {
     "data": {
      "text/plain": [
       "array([[1.        , 0.04270814, 0.0520051 , ..., 0.        , 0.04484485,\n",
       "        0.02437575],\n",
       "       [0.04270814, 1.        , 0.08495482, ..., 0.03698634, 0.02441931,\n",
       "        0.        ],\n",
       "       [0.0520051 , 0.08495482, 1.        , ..., 0.        , 0.02973505,\n",
       "        0.09697623],\n",
       "       ...,\n",
       "       [0.        , 0.03698634, 0.        , ..., 1.        , 0.03883678,\n",
       "        0.1266601 ],\n",
       "       [0.04484485, 0.02441931, 0.02973505, ..., 0.03883678, 1.        ,\n",
       "        0.05574947],\n",
       "       [0.02437575, 0.        , 0.09697623, ..., 0.1266601 , 0.05574947,\n",
       "        1.        ]])"
      ]
     },
     "execution_count": 66,
     "metadata": {},
     "output_type": "execute_result"
    }
   ],
   "source": [
    "#Probamos que funcione el archivo similaridad.pkl\n",
    "pickle.load(open(\"similaridad.pkl\", \"rb\"))"
   ]
  }
 ],
 "metadata": {
  "kernelspec": {
   "display_name": "Python 3",
   "language": "python",
   "name": "python3"
  },
  "language_info": {
   "codemirror_mode": {
    "name": "ipython",
    "version": 3
   },
   "file_extension": ".py",
   "mimetype": "text/x-python",
   "name": "python",
   "nbconvert_exporter": "python",
   "pygments_lexer": "ipython3",
   "version": "3.11.4"
  },
  "orig_nbformat": 4
 },
 "nbformat": 4,
 "nbformat_minor": 2
}
