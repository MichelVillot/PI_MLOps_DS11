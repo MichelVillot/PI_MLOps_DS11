{
 "cells": [
  {
   "attachments": {},
   "cell_type": "markdown",
   "metadata": {},
   "source": [
    "# Funciones API"
   ]
  },
  {
   "cell_type": "code",
   "execution_count": 4,
   "metadata": {},
   "outputs": [],
   "source": [
    "#Importamos todas las librerias necesarias para poder trabajar con nuestros dataset.\n",
    "from fastapi import FastAPI\n",
    "import uvicorn\n",
    "from pydantic import BaseModel\n",
    "import pandas as pd\n",
    "import numpy as np\n",
    "import seaborn as sns\n",
    "import matplotlib.pyplot as plt\n",
    "import ast\n",
    "import json\n",
    "import time\n",
    "from fastapi.encoders import jsonable_encoder\n",
    "import pickle"
   ]
  },
  {
   "cell_type": "code",
   "execution_count": 5,
   "metadata": {},
   "outputs": [],
   "source": [
    "#Importamos el dataset_final\n",
    "archivo = pd.read_csv(r\"C:\\Users\\miche\\OneDrive\\Escritorio\\Proyecto_MLOps\\DataSets\\dataframe_final.csv\", parse_dates=[\"release_date\"])\n",
    "df = pd.DataFrame(archivo)"
   ]
  },
  {
   "attachments": {},
   "cell_type": "markdown",
   "metadata": {},
   "source": [
    "* Desarrollo API"
   ]
  },
  {
   "attachments": {},
   "cell_type": "markdown",
   "metadata": {},
   "source": [
    "* def cantidad_filmaciones_mes( Mes ): Se ingresa un mes en idioma Español. Debe devolver la cantidad de películas que fueron estrenadas en el mes consultado en la totalidad del dataset."
   ]
  },
  {
   "cell_type": "code",
   "execution_count": 13,
   "metadata": {},
   "outputs": [
    {
     "data": {
      "text/plain": [
       "{'mes': 'Enero', 'cantidad': 5909}"
      ]
     },
     "execution_count": 13,
     "metadata": {},
     "output_type": "execute_result"
    }
   ],
   "source": [
    "def cantidad_filmaciones_mes(mes):\n",
    "    \n",
    "    \n",
    "    \"\"\"\n",
    "    Funcion creada para retornar la cantidad de peliculas que fueron estrenadas en el mes consultado.\n",
    "    Siendo el idioma predefinido de la mayoria de los IDE en ingles, se crean 2 listas una que contiene\n",
    "    los meses del año en ingles y otra con los meses del año en español, ya que son listas paralelas por\n",
    "    medio de un index generado por el mes ingresado en español hacemos un cambio para asi poder obtener \n",
    "    el total de peliculas estrenadas en el mes ingresado en español.\n",
    "    Args:\n",
    "        mes: Es el nombre del mes del año en español por el cual se realizara la busqueda.\n",
    "    \"\"\"\n",
    "    \n",
    "    \n",
    "    meses_esp = [\"Enero\", \"Febrero\", \"Marzo\", \"Abril\", \"Mayo\", \"Junio\", \"Julio\", \"Agosto\", \"Septiembre\", \"Octubre\", \"Noviembre\", \"Diciembre\"]\n",
    "    meses_ing = [\"January\", \"February\", \"March\", \"April\", \"May\", \"June\", \"July\", \"August\", \"September\", \"October\", \"November\", \"December\"]\n",
    "    mes = mes.title() #Mes con la primera letra en mayuscula\n",
    "    #Index\n",
    "    if mes in meses_esp:\n",
    "        indice_ing = meses_esp.index(mes) #Indice del mes en español\n",
    "        conversion_mes = meses_ing[indice_ing] #Conversion del index para extraer el mes en ingles\n",
    "    else:\n",
    "        return {'mes': \"\", \"cantidad\": \"\"}\n",
    "    \n",
    "    encontrado = False #Comodin\n",
    "    for indice, elemento in enumerate(meses_esp):\n",
    "        if mes == elemento:\n",
    "            encontrado = True\n",
    "            break\n",
    "\n",
    "    cantidad_mes = df[df[\"release_month\"]== conversion_mes].shape[0]\n",
    "           \n",
    "    if encontrado:\n",
    "        return {'mes': mes, \"cantidad\": cantidad_mes}\n",
    "\n",
    "cantidad_filmaciones_mes(\"enero\")"
   ]
  },
  {
   "attachments": {},
   "cell_type": "markdown",
   "metadata": {},
   "source": [
    "* def cantidad_filmaciones_dia( Dia ): Se ingresa un día en idioma Español. Debe devolver la cantidad de películas que fueron estrenadas en día consultado en la totalidad del dataset."
   ]
  },
  {
   "cell_type": "code",
   "execution_count": 14,
   "metadata": {},
   "outputs": [
    {
     "data": {
      "text/plain": [
       "{'dia': 'Lunes', 'cantidad': 3500}"
      ]
     },
     "execution_count": 14,
     "metadata": {},
     "output_type": "execute_result"
    }
   ],
   "source": [
    "def cantidad_filmaciones_dia(dia):\n",
    "    \n",
    "    \n",
    "    \"\"\"\n",
    "    Funcion creada para retornar la cantidad de peliculas que fueron estrenadas en el dia consultado.\n",
    "    Siendo el idioma predefinido de la mayoria de los IDE en ingles, se crean 2 listas una que contiene\n",
    "    los dias de la semana en ingles y otra con los dias de la semana en español, ya que son listas paralelas por\n",
    "    medio de un index generado por el dia ingresado en español hacemos un cambio para asi poder obtener \n",
    "    el total de peliculas estrenadas en el dia ingresado en español.\n",
    "    \n",
    "    Args:\n",
    "        dia: Es el nombre del dia de la semana en español por el cual se realizara la busqueda.\n",
    "    \"\"\"\n",
    "    \n",
    "    \n",
    "    dia = dia.title()\n",
    "    #Listas\n",
    "    dias_esp = [\"Lunes\", \"Martes\", \"Miercoles\", \"Jueves\", \"Viernes\", \"Sabado\", \"Domingo\"]\n",
    "    dias_ing = [\"Monday\", \"Tuesday\", \"Wednesday\", \"Thursday\", \"Friday\", \"Saturday\", \"Sunday\"]\n",
    "    #Index\n",
    "    if dia in dias_esp:\n",
    "        indice_ing = dias_esp.index(dia) #Indice del mes en español\n",
    "        conversion_dia = dias_ing[indice_ing] #Conversion del index para extraer el mes en ingles\n",
    "    elif dia == \"\":\n",
    "            return {\"dia\": dia, \"cantidad\": \"\"}\n",
    "    else:\n",
    "        return {\"dia\": \"\", \"cantidad\": \"\"}\n",
    "    \n",
    "    encontrado = False #Comodin\n",
    "\n",
    "    for indice, elemento in enumerate(dias_esp):\n",
    "        if dia == elemento:\n",
    "            encontrado = True\n",
    "            break\n",
    "   \n",
    "    estrenos_dia = df[df[\"release_day\"] == conversion_dia].shape[0]\n",
    "   \n",
    "    if encontrado:\n",
    "        return {\"dia\": dia, \"cantidad\": estrenos_dia}\n",
    "\n",
    "cantidad_filmaciones_dia(\"lunes\")"
   ]
  },
  {
   "attachments": {},
   "cell_type": "markdown",
   "metadata": {},
   "source": [
    "* def score_titulo( titulo_de_la_filmación ): Se ingresa el título de una filmación esperando como respuesta el título, el año de estreno y el score."
   ]
  },
  {
   "cell_type": "code",
   "execution_count": 15,
   "metadata": {},
   "outputs": [
    {
     "data": {
      "text/plain": [
       "{'titulo': 'Toy Story', 'anio': 1995, 'popularidad': 21.946943}"
      ]
     },
     "execution_count": 15,
     "metadata": {},
     "output_type": "execute_result"
    }
   ],
   "source": [
    "def score_titulo(titulo_de_la_filmacion):\n",
    "    \n",
    "    \n",
    "    \"\"\"\n",
    "    Esta funcion realiza el procedo de encontrar un titulo dentro de la columna 'title':\n",
    "    En caso de encontrar la coincidencia retorna el nombre del titulo, año de estreno y popularidad del mismo.\n",
    "    En caso no se encuentre el titulo o el campo este vacio la funcion retorna un mensaje para hacer saber\n",
    "    que algo no esta bien.\n",
    "\n",
    "    Args:\n",
    "        titulo_de_la_filmacion: Es el nombre del titulo por el cual se realizara la busqueda.\n",
    "    \"\"\"\n",
    "    \n",
    "    \n",
    "    titulo_de_la_filmacion = titulo_de_la_filmacion.title()\n",
    "    encontrado = False\n",
    "\n",
    "    for indice, elemento in enumerate(df[\"title\"]):\n",
    "        if titulo_de_la_filmacion == elemento:\n",
    "            encontrado = True\n",
    "            break\n",
    "        \n",
    "    anio_estreno = df.loc[indice, \"release_year\"]\n",
    "    popularidad = df.loc[indice, \"popularity\"]\n",
    "\n",
    "    if encontrado:\n",
    "        return {\"titulo\": titulo_de_la_filmacion, \"anio\": anio_estreno ,\"popularidad\":popularidad}\n",
    "    elif not encontrado:\n",
    "        if titulo_de_la_filmacion == \"\":\n",
    "            return {\"titulo\": \"\", \"anio\": \"\" , \"popularidad\": \"\" }\n",
    "        elif titulo_de_la_filmacion != elemento:\n",
    "            return {\"titulo\": \"\" , \"anio\": \"\" , \"popularidad\": \"\" }\n",
    "        \n",
    "score_titulo(\"toy story\")"
   ]
  },
  {
   "attachments": {},
   "cell_type": "markdown",
   "metadata": {},
   "source": [
    "* def votos_titulo( titulo_de_la_filmación ): Se ingresa el título de una filmación esperando como respuesta el título, la cantidad de votos y el valor promedio de las votaciones. La misma variable deberá de contar con al menos 2000 valoraciones, caso contrario, debemos contar con un mensaje avisando que no cumple esta condición y que por ende, no se devuelve ningun valor."
   ]
  },
  {
   "cell_type": "code",
   "execution_count": 16,
   "metadata": {},
   "outputs": [
    {
     "data": {
      "text/plain": [
       "{'titulo': 'Toy Story', 'anio': 1995, 'voto_total': 5415, 'voto_promedio': 7.7}"
      ]
     },
     "execution_count": 16,
     "metadata": {},
     "output_type": "execute_result"
    }
   ],
   "source": [
    "def votos_titulo(titulo_de_la_filmacion):\n",
    "    \"\"\"\n",
    "    Funcion creada para retornar por medio del titulo el año de estreno, valoraciones y promedio de votos.\n",
    "    Args:\n",
    "        titulo_de_la_filmacion: titulo de la pelicula deseada\n",
    "    \"\"\"\n",
    "    \n",
    "\n",
    "    titulo_de_la_filmacion = titulo_de_la_filmacion.title()\n",
    "    encontrado = False\n",
    "\n",
    "    for indice, elemento in enumerate(df[\"title\"]):\n",
    "        if titulo_de_la_filmacion == elemento:\n",
    "            encontrado = True\n",
    "            break\n",
    "\n",
    "    votos = df.loc[indice, \"vote_count\"]\n",
    "    promedio_votos = df.loc[indice, \"vote_average\"]\n",
    "    anio = df.loc[indice, \"release_year\"]\n",
    "\n",
    "    if encontrado and votos > 2000:\n",
    "        return {'titulo':titulo_de_la_filmacion, 'anio':anio, 'voto_total': int(votos), 'voto_promedio':promedio_votos}\n",
    "    elif encontrado and votos < 2000:\n",
    "        return {'titulo': \"\", 'anio': \"\", 'voto_total': \"\", 'voto_promedio': \"\"}\n",
    "    elif not encontrado:\n",
    "        if titulo_de_la_filmacion == \"\":\n",
    "            return {'titulo': \"\" , 'anio': \"\", 'voto_total': \"\", 'voto_promedio': \"\"}\n",
    "        elif titulo_de_la_filmacion != elemento:\n",
    "            return {'titulo': \"\", 'anio': \"\", 'voto_total': \"\", 'voto_promedio': \"\"}\n",
    "\n",
    "    \n",
    "    \n",
    "    return {'titulo':titulo_de_la_filmacion, 'anio':anio, 'voto_total': int(votos), 'voto_promedio':promedio_votos}\n",
    "\n",
    "\n",
    "votos_titulo(\"toy story\")"
   ]
  },
  {
   "attachments": {},
   "cell_type": "markdown",
   "metadata": {},
   "source": [
    "* def get_actor( nombre_actor ): Se ingresa el nombre de un actor que se encuentre dentro de un dataset debiendo devolver el éxito del mismo medido a través del retorno. Además, la cantidad de películas que en las que ha participado y el promedio de retorno. La definición no deberá considerar directores."
   ]
  },
  {
   "cell_type": "code",
   "execution_count": 10,
   "metadata": {},
   "outputs": [
    {
     "data": {
      "text/plain": [
       "{'actor': 'Robin Williams',\n",
       " 'cantidad_filmaciones': 82,\n",
       " 'retorno_total': 155.6881040048321,\n",
       " 'retorno_promedio': 1.8986354146930744}"
      ]
     },
     "execution_count": 10,
     "metadata": {},
     "output_type": "execute_result"
    }
   ],
   "source": [
    "def get_actor(nombre_actor):\n",
    "    \"\"\"\n",
    "    Funcion creada para retornar la cantidad de filmaciones hechas, el retorno y promedio de retorno por filmacion.\n",
    "    Para retornar se utiliza el parametro nombre_actor\n",
    "\n",
    "    Args:\n",
    "        nombre_actor: nombre del actor para realizar la busqueda\n",
    "\n",
    "    \"\"\"\n",
    "    df.cast=df.cast.fillna(\" \")\n",
    "    nombre_actor = nombre_actor.title()\n",
    "    apariciones = 0\n",
    "    indice_actor = []\n",
    "    #Obtener indices y contar las apariciones del mismo.\n",
    "    for indice, elemento in enumerate(df.cast):\n",
    "        if nombre_actor in df.cast[indice]:\n",
    "            apariciones+=1\n",
    "            indice_actor.append(indice)\n",
    "            # print(indice, actor, apariciones)\n",
    "            \n",
    "    retorno = df.loc[indice_actor, [\"return\"]].sum()[0]\n",
    "    retorno_promedio = df.loc[indice_actor, [\"return\"]].mean()[0]\n",
    "    \n",
    "    return {'actor':nombre_actor, 'cantidad_filmaciones':apariciones, 'retorno_total':retorno, 'retorno_promedio':retorno_promedio}\n",
    "\n",
    "\n",
    "get_actor(\"robin williams\")"
   ]
  },
  {
   "attachments": {},
   "cell_type": "markdown",
   "metadata": {},
   "source": [
    "* def get_director( nombre_director ): Se ingresa el nombre de un director que se encuentre dentro de un dataset debiendo devolver el éxito del mismo medido a través del retorno. Además, deberá devolver el nombre de cada película con la fecha de lanzamiento, retorno individual, costo y ganancia de la misma."
   ]
  },
  {
   "cell_type": "code",
   "execution_count": 11,
   "metadata": {},
   "outputs": [
    {
     "data": {
      "text/plain": [
       "{'director': 'James Cameron',\n",
       " 'retorno_total_director': 54.23441585285313,\n",
       " 'peliculas': 375                           True Lies\n",
       " 582          Terminator 2: Judgment Day\n",
       " 1090                          The Abyss\n",
       " 1156                             Aliens\n",
       " 1193                     The Terminator\n",
       " 1636                            Titanic\n",
       " 5636     Piranha Part Two: The Spawning\n",
       " 6145                Ghosts of the Abyss\n",
       " 9645                 Aliens of the Deep\n",
       " 14540                            Avatar\n",
       " 26512                          Avatar 2\n",
       " 43878        T2 3-D: Battle Across Time\n",
       " Name: title, dtype: object,\n",
       " 'anio': 375      1994-07-14\n",
       " 582      1991-07-01\n",
       " 1090     1989-08-09\n",
       " 1156     1986-07-18\n",
       " 1193     1984-10-26\n",
       " 1636     1997-11-18\n",
       " 5636     1981-01-01\n",
       " 6145     2003-04-10\n",
       " 9645     2005-01-21\n",
       " 14540    2009-12-10\n",
       " 26512    2020-12-16\n",
       " 43878    1996-01-01\n",
       " Name: release_date, dtype: object,\n",
       " 'retorno_pelicula': 375       3.294630\n",
       " 582       5.200000\n",
       " 1090      1.285716\n",
       " 1156      9.908998\n",
       " 1193     12.245500\n",
       " 1636      9.225171\n",
       " 5636      0.000000\n",
       " 6145      1.310836\n",
       " 9645      0.000000\n",
       " 14540    11.763566\n",
       " 26512     0.000000\n",
       " 43878     0.000000\n",
       " Name: return, dtype: float64,\n",
       " 'budget_pelicula': 375      115000000.0\n",
       " 582      100000000.0\n",
       " 1090      70000000.0\n",
       " 1156      18500000.0\n",
       " 1193       6400000.0\n",
       " 1636     200000000.0\n",
       " 5636        145786.0\n",
       " 6145      13000000.0\n",
       " 9645             0.0\n",
       " 14540    237000000.0\n",
       " 26512            0.0\n",
       " 43878            0.0\n",
       " Name: budget, dtype: float64,\n",
       " 'revenue_pelicula': 375      3.788824e+08\n",
       " 582      5.200000e+08\n",
       " 1090     9.000010e+07\n",
       " 1156     1.833165e+08\n",
       " 1193     7.837120e+07\n",
       " 1636     1.845034e+09\n",
       " 5636     0.000000e+00\n",
       " 6145     1.704087e+07\n",
       " 9645     0.000000e+00\n",
       " 14540    2.787965e+09\n",
       " 26512    0.000000e+00\n",
       " 43878    0.000000e+00\n",
       " Name: revenue, dtype: float64}"
      ]
     },
     "execution_count": 11,
     "metadata": {},
     "output_type": "execute_result"
    }
   ],
   "source": [
    "def get_director(nombre_director: str):\n",
    "\n",
    "    nombre_director = nombre_director.title()\n",
    "    indice_director = []\n",
    "\n",
    "    for indice, elemento in enumerate(df.director):\n",
    "        if nombre_director in df.director[indice]:\n",
    "            indice_director.append(indice)\n",
    "            # print(indice, elemento)\n",
    "     \n",
    "    retorno_total = df.loc[indice_director, \"return\"].sum()        \n",
    "    titulo = df.loc[indice_director, \"title\"]\n",
    "    retorno_individual = df.loc[indice_director, \"return\"]\n",
    "    fecha_lanzamiento = df.loc[indice_director, \"release_date\"].dt.date\n",
    "    costo = df.loc[indice_director, \"budget\"]\n",
    "    ganancia = df.loc[indice_director, \"revenue\"]  \n",
    "\n",
    "    return {'director':nombre_director, \n",
    "            'retorno_total_director':retorno_total, \n",
    "            'peliculas':titulo, \n",
    "            'anio':fecha_lanzamiento, \n",
    "            'retorno_pelicula':retorno_individual, \n",
    "            'budget_pelicula':costo, \n",
    "            'revenue_pelicula':ganancia}\n",
    "                     \n",
    "get_director(\"james cameron\")"
   ]
  },
  {
   "attachments": {},
   "cell_type": "markdown",
   "metadata": {},
   "source": [
    "* def recomendacion( titulo ): Se ingresa el nombre de una película y te recomienda las similares en una lista de 5 valores."
   ]
  },
  {
   "cell_type": "code",
   "execution_count": 12,
   "metadata": {},
   "outputs": [],
   "source": [
    "def recomendacion(titulo: str):\n",
    "    titulo=titulo.title()\n",
    "    indice = df[df[\"title\"] == titulo].index[0]\n",
    "    distancia = sorted(list(enumerate(similaridad[indice])), reverse=True, key=lambda vector:vector[1])\n",
    "    lista_peliculas = []\n",
    "    for i in distancia[0:5]:\n",
    "        lista_peliculas.append(df.iloc[i[0]].title)\n",
    "    \n",
    "    return lista_peliculas"
   ]
  }
 ],
 "metadata": {
  "kernelspec": {
   "display_name": "Python 3",
   "language": "python",
   "name": "python3"
  },
  "language_info": {
   "codemirror_mode": {
    "name": "ipython",
    "version": 3
   },
   "file_extension": ".py",
   "mimetype": "text/x-python",
   "name": "python",
   "nbconvert_exporter": "python",
   "pygments_lexer": "ipython3",
   "version": "3.11.4"
  },
  "orig_nbformat": 4
 },
 "nbformat": 4,
 "nbformat_minor": 2
}
